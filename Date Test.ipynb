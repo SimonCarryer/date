{
 "cells": [
  {
   "cell_type": "code",
   "execution_count": 1,
   "metadata": {},
   "outputs": [],
   "source": [
    "from date.date_env import DateEnv"
   ]
  },
  {
   "cell_type": "code",
   "execution_count": 2,
   "metadata": {},
   "outputs": [],
   "source": [
    "env = DateEnv()"
   ]
  },
  {
   "cell_type": "code",
   "execution_count": 3,
   "metadata": {},
   "outputs": [
    {
     "name": "stdout",
     "output_type": "stream",
     "text": [
      "{'previous': {'last_action': 0, 'last_response': 0}, 'me_attributes': {'confidence': 0}, 'partner_attributes': {'interests': {'cars': 0, 'sports': 2, 'literature': 1, 'history': 3, 'machine learning and artificial intelligence': 1}, 'attraction': 2, 'romance': 0}}\n"
     ]
    }
   ],
   "source": [
    "env.reset() # reset environment to a new, random state\n",
    "print(env.render())\n"
   ]
  },
  {
   "cell_type": "code",
   "execution_count": 4,
   "metadata": {},
   "outputs": [
    {
     "name": "stdout",
     "output_type": "stream",
     "text": [
      "Timesteps taken: 1\n",
      "Penalties incurred: 0\n"
     ]
    }
   ],
   "source": [
    "env.reset()\n",
    "\n",
    "epochs = 0\n",
    "penalties, reward = 0, 0\n",
    "\n",
    "frames = [] # for animation\n",
    "\n",
    "done = False\n",
    "\n",
    "while not done:\n",
    "    action = env.sample_actions()\n",
    "    state, reward, done = env.step(action)\n",
    "\n",
    "    if reward == -10:\n",
    "        penalties += 1\n",
    "    \n",
    "    # Put each rendered frame into dict for animation\n",
    "    frames.append({\n",
    "        'state': env.render(),\n",
    "        'action': action,\n",
    "        'reward': reward\n",
    "        }\n",
    "    )\n",
    "\n",
    "    epochs += 1\n",
    "    \n",
    "    \n",
    "print(\"Timesteps taken: {}\".format(epochs))\n",
    "print(\"Penalties incurred: {}\".format(penalties))"
   ]
  },
  {
   "cell_type": "code",
   "execution_count": 14,
   "metadata": {},
   "outputs": [],
   "source": [
    "reward_dict = {topic: {-1: (-1, False), 0: (0, False), 1: (1, False),  -2: (-3, True)} for topic in \n",
    "     ['cars', 'sports', 'literature', 'history', 'machine learning and artificial intelligence']}\n",
    "reward_dict['flirt'] = {2: (12, True), -1: (-1, False), 0: (0, False), 1:(1, False), -2: (-3, True)}\n",
    "reward_dict['leave'] = {0: (-2, True)}\n",
    "reward_dict['drink'] = {0: (-1, False)}"
   ]
  },
  {
   "cell_type": "code",
   "execution_count": 15,
   "metadata": {},
   "outputs": [],
   "source": [
    "env.reward_dict = reward_dict"
   ]
  },
  {
   "cell_type": "code",
   "execution_count": 16,
   "metadata": {},
   "outputs": [],
   "source": [
    "import numpy as np\n",
    "q_table = np.zeros([env.n_actions, env.n_responses, env.date.me.max_confidence +1, env.n_actions])"
   ]
  },
  {
   "cell_type": "code",
   "execution_count": 25,
   "metadata": {},
   "outputs": [
    {
     "name": "stdout",
     "output_type": "stream",
     "text": [
      "Episode: 10000\n",
      "Episode: 20000\n",
      "Episode: 30000\n",
      "Episode: 40000\n",
      "Episode: 50000\n",
      "Episode: 60000\n",
      "Episode: 70000\n",
      "Episode: 80000\n",
      "Episode: 90000\n",
      "Training finished.\n",
      "\n"
     ]
    }
   ],
   "source": [
    "#%%time\n",
    "\"\"\"Training the agent\"\"\"\n",
    "\n",
    "import random\n",
    "#from IPython.display import clear_output\n",
    "\n",
    "# Hyperparameters\n",
    "alpha = 0.1\n",
    "gamma = 0.6\n",
    "epsilon = 0.1\n",
    "\n",
    "# For plotting metrics\n",
    "all_epochs = []\n",
    "all_penalties = []\n",
    "\n",
    "for i in range(1, 100000):\n",
    "    state = env.reset()\n",
    "\n",
    "    epochs, reward, = 0, 0\n",
    "    done = False\n",
    "    \n",
    "    while not done:\n",
    "        if random.uniform(0, 1) < epsilon:\n",
    "            action = env.sample_actions() # Explore action space\n",
    "        else:\n",
    "            action = np.argmax(q_table[state[0], state[1], state[2]]) # Exploit learned values\n",
    "\n",
    "        next_state, reward, done = env.step(action)\n",
    "        \n",
    "        old_value = q_table[state[0], state[1], state[2], action]\n",
    "        next_max = np.max(q_table[next_state])\n",
    "        \n",
    "        new_value = (1 - alpha) * old_value + alpha * (reward + gamma * next_max)\n",
    "        q_table[state[0], state[1], state[2], action] = new_value\n",
    "\n",
    "        \n",
    "        state = next_state\n",
    "        epochs += 1\n",
    "        \n",
    "    if i % 10000 == 0:\n",
    "        print(f\"Episode: {i}\")\n",
    "\n",
    "print(\"Training finished.\\n\")"
   ]
  },
  {
   "cell_type": "code",
   "execution_count": 26,
   "metadata": {},
   "outputs": [
    {
     "name": "stdout",
     "output_type": "stream",
     "text": [
      "Results after 1000 episodes:\n",
      "Average timesteps per episode: 5.466\n",
      "Average successes per episode: 0.164\n",
      "Average reward per episode: -1.182\n"
     ]
    }
   ],
   "source": [
    "\"\"\"Evaluate agent's performance after Q-learning\"\"\"\n",
    "\n",
    "total_epochs, total_successes, total_reward = 0, 0, 0\n",
    "episodes = 1000\n",
    "\n",
    "frames = []\n",
    "\n",
    "for i in range(episodes):\n",
    "    state = env.reset()\n",
    "    epochs, successes, reward = 0, 0, 0\n",
    "    \n",
    "    done = False\n",
    "    frame_set = []\n",
    "    while not done:\n",
    "        old_state = env.render()\n",
    "        action = np.argmax(q_table[state])\n",
    "        state, reward, done = env.step(action)\n",
    "\n",
    "        if reward == 12:\n",
    "            successes += 1\n",
    "\n",
    "        # Put each rendered frame into dict for animation\n",
    "        frame_set.append({\n",
    "            'state': old_state,\n",
    "            'action': action,\n",
    "            'reward': reward\n",
    "            }\n",
    "        )\n",
    "\n",
    "        epochs += 1\n",
    "    total_reward += sum([i['reward'] for i in frame_set])\n",
    "    total_successes += successes\n",
    "    total_epochs += epochs\n",
    "    frames.append(frame_set)\n",
    "\n",
    "print(f\"Results after {episodes} episodes:\")\n",
    "print(f\"Average timesteps per episode: {total_epochs / episodes}\")\n",
    "print(f\"Average successes per episode: {total_successes / episodes}\")\n",
    "print(f\"Average reward per episode: {total_reward / episodes}\")"
   ]
  },
  {
   "cell_type": "code",
   "execution_count": 27,
   "metadata": {},
   "outputs": [
    {
     "data": {
      "text/plain": [
       "[{'state': {'previous': {'last_action': 0, 'last_response': 0},\n",
       "   'me_attributes': {'confidence': 0},\n",
       "   'partner_attributes': {'interests': {'cars': 3,\n",
       "     'sports': 2,\n",
       "     'literature': 0,\n",
       "     'history': 1,\n",
       "     'machine learning and artificial intelligence': 1},\n",
       "    'attraction': 2,\n",
       "    'romance': 0}},\n",
       "  'action': 3,\n",
       "  'reward': -1},\n",
       " {'state': {'previous': {'last_action': 3, 'last_response': -1},\n",
       "   'me_attributes': {'confidence': 0},\n",
       "   'partner_attributes': {'interests': {'cars': 3,\n",
       "     'sports': 2,\n",
       "     'literature': 0,\n",
       "     'history': 1,\n",
       "     'machine learning and artificial intelligence': 1},\n",
       "    'attraction': 1,\n",
       "    'romance': 0}},\n",
       "  'action': 6,\n",
       "  'reward': -1},\n",
       " {'state': {'previous': {'last_action': 6, 'last_response': 0},\n",
       "   'me_attributes': {'confidence': 1},\n",
       "   'partner_attributes': {'interests': {'cars': 3,\n",
       "     'sports': 2,\n",
       "     'literature': 0,\n",
       "     'history': 1,\n",
       "     'machine learning and artificial intelligence': 1},\n",
       "    'attraction': 1,\n",
       "    'romance': 0}},\n",
       "  'action': 6,\n",
       "  'reward': -1},\n",
       " {'state': {'previous': {'last_action': 6, 'last_response': 0},\n",
       "   'me_attributes': {'confidence': 2},\n",
       "   'partner_attributes': {'interests': {'cars': 3,\n",
       "     'sports': 2,\n",
       "     'literature': 0,\n",
       "     'history': 1,\n",
       "     'machine learning and artificial intelligence': 1},\n",
       "    'attraction': 1,\n",
       "    'romance': 0}},\n",
       "  'action': 1,\n",
       "  'reward': 0},\n",
       " {'state': {'previous': {'last_action': 1, 'last_response': 0},\n",
       "   'me_attributes': {'confidence': 2},\n",
       "   'partner_attributes': {'interests': {'cars': 3,\n",
       "     'sports': 2,\n",
       "     'literature': 0,\n",
       "     'history': 1,\n",
       "     'machine learning and artificial intelligence': 1},\n",
       "    'attraction': 2,\n",
       "    'romance': 0}},\n",
       "  'action': 5,\n",
       "  'reward': -1},\n",
       " {'state': {'previous': {'last_action': 5, 'last_response': -1},\n",
       "   'me_attributes': {'confidence': 2},\n",
       "   'partner_attributes': {'interests': {'cars': 3,\n",
       "     'sports': 2,\n",
       "     'literature': 0,\n",
       "     'history': 1,\n",
       "     'machine learning and artificial intelligence': 1},\n",
       "    'attraction': 1,\n",
       "    'romance': 0}},\n",
       "  'action': 0,\n",
       "  'reward': 0},\n",
       " {'state': {'previous': {'last_action': 0, 'last_response': 0},\n",
       "   'me_attributes': {'confidence': 2},\n",
       "   'partner_attributes': {'interests': {'cars': 3,\n",
       "     'sports': 2,\n",
       "     'literature': 0,\n",
       "     'history': 1,\n",
       "     'machine learning and artificial intelligence': 1},\n",
       "    'attraction': 2,\n",
       "    'romance': 0}},\n",
       "  'action': 3,\n",
       "  'reward': 1},\n",
       " {'state': {'previous': {'last_action': 3, 'last_response': 1},\n",
       "   'me_attributes': {'confidence': 3},\n",
       "   'partner_attributes': {'interests': {'cars': 3,\n",
       "     'sports': 2,\n",
       "     'literature': 0,\n",
       "     'history': 1,\n",
       "     'machine learning and artificial intelligence': 1},\n",
       "    'attraction': 3,\n",
       "    'romance': 0}},\n",
       "  'action': 3,\n",
       "  'reward': 1},\n",
       " {'state': {'previous': {'last_action': 3, 'last_response': 1},\n",
       "   'me_attributes': {'confidence': 4},\n",
       "   'partner_attributes': {'interests': {'cars': 3,\n",
       "     'sports': 2,\n",
       "     'literature': 0,\n",
       "     'history': 1,\n",
       "     'machine learning and artificial intelligence': 1},\n",
       "    'attraction': 4,\n",
       "    'romance': 0}},\n",
       "  'action': 5,\n",
       "  'reward': 1},\n",
       " {'state': {'previous': {'last_action': 5, 'last_response': 1},\n",
       "   'me_attributes': {'confidence': 4},\n",
       "   'partner_attributes': {'interests': {'cars': 3,\n",
       "     'sports': 2,\n",
       "     'literature': 0,\n",
       "     'history': 1,\n",
       "     'machine learning and artificial intelligence': 1},\n",
       "    'attraction': 4,\n",
       "    'romance': 1}},\n",
       "  'action': 5,\n",
       "  'reward': 12}]"
      ]
     },
     "execution_count": 27,
     "metadata": {},
     "output_type": "execute_result"
    }
   ],
   "source": [
    "frames[0]"
   ]
  },
  {
   "cell_type": "code",
   "execution_count": null,
   "metadata": {},
   "outputs": [],
   "source": [
    "state, reward, done"
   ]
  },
  {
   "cell_type": "code",
   "execution_count": null,
   "metadata": {},
   "outputs": [],
   "source": []
  }
 ],
 "metadata": {
  "kernelspec": {
   "display_name": "Python 3",
   "language": "python",
   "name": "python3"
  },
  "language_info": {
   "codemirror_mode": {
    "name": "ipython",
    "version": 3
   },
   "file_extension": ".py",
   "mimetype": "text/x-python",
   "name": "python",
   "nbconvert_exporter": "python",
   "pygments_lexer": "ipython3",
   "version": "3.7.0"
  }
 },
 "nbformat": 4,
 "nbformat_minor": 2
}
